{
 "cells": [
  {
   "cell_type": "code",
   "execution_count": 1,
   "id": "253deea0",
   "metadata": {},
   "outputs": [
    {
     "name": "stdout",
     "output_type": "stream",
     "text": [
      "us-east-1\n",
      "arn:aws:iam::474422712127:role/sagemaker-role-BYOC\n"
     ]
    }
   ],
   "source": [
    "#tf resnet packages + utilities\n",
    "import os\n",
    "import tensorflow as tf\n",
    "from tensorflow.keras.applications import resnet50\n",
    "from tensorflow.keras import backend\n",
    "import numpy as np\n",
    "from tensorflow.keras.preprocessing import image\n",
    "\n",
    "#sagemaker clients\n",
    "import boto3\n",
    "import json\n",
    "import os\n",
    "import joblib\n",
    "import pickle\n",
    "import tarfile\n",
    "import sagemaker\n",
    "from sagemaker.estimator import Estimator\n",
    "import time\n",
    "from time import gmtime, strftime\n",
    "import subprocess\n",
    "\n",
    "client = boto3.client(service_name=\"sagemaker\")\n",
    "runtime = boto3.client(service_name=\"sagemaker-runtime\")\n",
    "boto_session = boto3.session.Session()\n",
    "s3 = boto_session.resource('s3')\n",
    "role = sagemaker.get_execution_role()\n",
    "region = boto_session.region_name\n",
    "sagemaker_session = sagemaker.Session()\n",
    "print(region)\n",
    "print(role)"
   ]
  },
  {
   "cell_type": "code",
   "execution_count": 2,
   "id": "c85b14b5",
   "metadata": {},
   "outputs": [],
   "source": [
    "export_dir = \"00003\""
   ]
  },
  {
   "cell_type": "code",
   "execution_count": 3,
   "id": "fa5a809b",
   "metadata": {},
   "outputs": [
    {
     "name": "stderr",
     "output_type": "stream",
     "text": [
      "/home/ec2-user/anaconda3/envs/tensorflow2_p38/lib/python3.8/site-packages/keras/backend.py:414: UserWarning: `tf.keras.backend.set_learning_phase` is deprecated and will be removed after 2020-10-11. To update it, simply pass a True/False value to the `training` argument of the `__call__` method of your layer or model.\n",
      "  warnings.warn('`tf.keras.backend.set_learning_phase` is deprecated and '\n",
      "2022-11-14 19:01:45.546538: E tensorflow/stream_executor/cuda/cuda_driver.cc:271] failed call to cuInit: CUDA_ERROR_NO_DEVICE: no CUDA-capable device is detected\n",
      "2022-11-14 19:01:45.546581: I tensorflow/stream_executor/cuda/cuda_diagnostics.cc:156] kernel driver does not appear to be running on this host (ip-172-16-36-57.ec2.internal): /proc/driver/nvidia/version does not exist\n",
      "2022-11-14 19:01:45.547029: I tensorflow/core/platform/cpu_feature_guard.cc:151] This TensorFlow binary is optimized with oneAPI Deep Neural Network Library (oneDNN) to use the following CPU instructions in performance-critical operations:  AVX2 AVX512F FMA\n",
      "To enable them in other operations, rebuild TensorFlow with the appropriate compiler flags.\n"
     ]
    },
    {
     "name": "stdout",
     "output_type": "stream",
     "text": [
      "Directory  00003  Created \n",
      "WARNING:tensorflow:Compiled the loaded model, but the compiled metrics have yet to be built. `model.compile_metrics` will be empty until you train or evaluate the model.\n"
     ]
    },
    {
     "name": "stderr",
     "output_type": "stream",
     "text": [
      "2022-11-14 19:01:52.053875: W tensorflow/python/util/util.cc:368] Sets are not currently considered sequences, but this may change in the future, so consider avoiding using them.\n"
     ]
    },
    {
     "name": "stdout",
     "output_type": "stream",
     "text": [
      "INFO:tensorflow:Assets written to: 00003/assets\n"
     ]
    },
    {
     "name": "stderr",
     "output_type": "stream",
     "text": [
      "/home/ec2-user/anaconda3/envs/tensorflow2_p38/lib/python3.8/site-packages/keras/engine/functional.py:1410: CustomMaskWarning: Custom mask layers require a config and must override get_config. When loading, the custom mask layer must be passed to the custom_objects argument.\n",
      "  layer_config = serialize_layer_fn(layer)\n",
      "/home/ec2-user/anaconda3/envs/tensorflow2_p38/lib/python3.8/site-packages/keras/saving/saved_model/layer_serialization.py:112: CustomMaskWarning: Custom mask layers require a config and must override get_config. When loading, the custom mask layer must be passed to the custom_objects argument.\n",
      "  return generic_utils.serialize_keras_object(obj)\n"
     ]
    }
   ],
   "source": [
    "tf.keras.backend.set_learning_phase(0)\n",
    "model = tf.keras.applications.ResNet50()\n",
    "\n",
    "if not os.path.exists(export_dir):\n",
    "    os.makedirs(export_dir)\n",
    "    print(\"Directory \", export_dir, \" Created \")\n",
    "else:\n",
    "    print(\"Directory \", export_dir, \" already exists\")\n",
    "# Save to SavedModel\n",
    "model.save(export_dir, save_format=\"tf\", include_optimizer=False)"
   ]
  },
  {
   "cell_type": "code",
   "execution_count": 4,
   "id": "4a34861a",
   "metadata": {},
   "outputs": [
    {
     "name": "stdout",
     "output_type": "stream",
     "text": [
      "./00003/\n",
      "./00003/variables/\n",
      "./00003/variables/variables.data-00000-of-00001\n",
      "./00003/variables/variables.index\n",
      "./00003/keras_metadata.pb\n",
      "./00003/saved_model.pb\n",
      "./00003/assets/\n"
     ]
    }
   ],
   "source": [
    "!tar -cvpzf model.tar.gz ./00003"
   ]
  },
  {
   "cell_type": "code",
   "execution_count": 5,
   "id": "b3ed3cc9",
   "metadata": {},
   "outputs": [
    {
     "name": "stdout",
     "output_type": "stream",
     "text": [
      "inference.py\n"
     ]
    }
   ],
   "source": [
    "!tar -cvpzf source.tar.gz inference.py"
   ]
  },
  {
   "cell_type": "code",
   "execution_count": 6,
   "id": "1da3dea8",
   "metadata": {},
   "outputs": [
    {
     "name": "stdout",
     "output_type": "stream",
     "text": [
      "sagemaker-us-east-1-474422712127\n"
     ]
    }
   ],
   "source": [
    "#Bucket for model artifacts\n",
    "default_bucket = sagemaker_session.default_bucket()\n",
    "print(default_bucket)"
   ]
  },
  {
   "cell_type": "code",
   "execution_count": 7,
   "id": "6b6d31a6",
   "metadata": {},
   "outputs": [],
   "source": [
    "s3 = boto3.client('s3')\n",
    "for i in range(0,5):\n",
    "    with open(\"model.tar.gz\", \"rb\") as f:\n",
    "        s3.upload_fileobj(f, default_bucket, \"resnet-mme/resnet-{}.tar.gz\".format(i))"
   ]
  },
  {
   "cell_type": "code",
   "execution_count": 8,
   "id": "31af6e1e",
   "metadata": {},
   "outputs": [
    {
     "name": "stdout",
     "output_type": "stream",
     "text": [
      "2022-11-14 19:05:31   95350219 resnet-0.tar.gz\n",
      "2022-11-14 19:05:32   95350219 resnet-1.tar.gz\n",
      "2022-11-14 19:05:33   95350219 resnet-2.tar.gz\n",
      "2022-11-14 19:05:33   95350219 resnet-3.tar.gz\n",
      "2022-11-14 19:05:34   95350219 resnet-4.tar.gz\n"
     ]
    }
   ],
   "source": [
    "!aws s3 ls s3://{default_bucket}/resnet-mme/"
   ]
  },
  {
   "cell_type": "code",
   "execution_count": 9,
   "id": "2f788cc9",
   "metadata": {},
   "outputs": [
    {
     "data": {
      "text/plain": [
       "'s3://sagemaker-us-east-1-474422712127/resnet-mme/'"
      ]
     },
     "execution_count": 9,
     "metadata": {},
     "output_type": "execute_result"
    }
   ],
   "source": [
    "model_url = 's3://{}/resnet-mme/'.format(default_bucket)\n",
    "model_url"
   ]
  },
  {
   "cell_type": "code",
   "execution_count": 10,
   "id": "d4bb18bb",
   "metadata": {},
   "outputs": [
    {
     "name": "stdout",
     "output_type": "stream",
     "text": [
      "upload: ./source.tar.gz to s3://sagemaker-us-east-1-474422712127/resnet-script/source.tar.gz\n"
     ]
    }
   ],
   "source": [
    "!aws s3 cp source.tar.gz s3://{default_bucket}/resnet-script/source.tar.gz"
   ]
  },
  {
   "cell_type": "code",
   "execution_count": 11,
   "id": "63b03ead",
   "metadata": {},
   "outputs": [
    {
     "name": "stdout",
     "output_type": "stream",
     "text": [
      "2022-11-14 19:05:49        137 source.tar.gz\n"
     ]
    }
   ],
   "source": [
    "!aws s3 ls s3://{default_bucket}/resnet-script/"
   ]
  },
  {
   "cell_type": "code",
   "execution_count": 12,
   "id": "3bdec2c2",
   "metadata": {},
   "outputs": [
    {
     "data": {
      "text/plain": [
       "'s3://sagemaker-us-east-1-474422712127/resnet-script/'"
      ]
     },
     "execution_count": 12,
     "metadata": {},
     "output_type": "execute_result"
    }
   ],
   "source": [
    "source_dir = 's3://{}/resnet-script/'.format(default_bucket)\n",
    "source_dir"
   ]
  },
  {
   "cell_type": "code",
   "execution_count": 13,
   "id": "d197a116",
   "metadata": {},
   "outputs": [
    {
     "data": {
      "text/plain": [
       "'763104351884.dkr.ecr.us-east-1.amazonaws.com/tensorflow-inference:2.3.0-cpu'"
      ]
     },
     "execution_count": 13,
     "metadata": {},
     "output_type": "execute_result"
    }
   ],
   "source": [
    "# retrieve tf image\n",
    "image_uri = sagemaker.image_uris.retrieve(\n",
    "    framework=\"tensorflow\",\n",
    "    region=\"us-east-1\",\n",
    "    version=\"2.3.0\",\n",
    "    py_version=\"py3\",\n",
    "    instance_type=\"ml.m5.xlarge\",\n",
    "    image_scope=\"inference\"\n",
    ")\n",
    "image_uri"
   ]
  },
  {
   "cell_type": "code",
   "execution_count": 14,
   "id": "a33c3148",
   "metadata": {},
   "outputs": [
    {
     "name": "stdout",
     "output_type": "stream",
     "text": [
      "Model name: mme-tf2022-11-14-19-05-59\n",
      "Model data Url: s3://sagemaker-us-east-1-474422712127/resnet-mme/\n",
      "Model Arn: arn:aws:sagemaker:us-east-1:474422712127:model/mme-tf2022-11-14-19-05-59\n"
     ]
    }
   ],
   "source": [
    "from time import gmtime, strftime\n",
    "model_name = 'mme-tf' + strftime(\"%Y-%m-%d-%H-%M-%S\", gmtime())\n",
    "\n",
    "print('Model name: ' + model_name)\n",
    "print('Model data Url: ' + model_url)\n",
    "\n",
    "create_model_response = client.create_model(\n",
    "    ModelName=model_name,\n",
    "    Containers=[\n",
    "        {\n",
    "            \"Image\": image_uri,\n",
    "            \"Mode\": \"MultiModel\",\n",
    "            \"ModelDataUrl\": model_url,\n",
    "            \"Environment\": {'SAGEMAKER_SUBMIT_DIRECTORY': source_dir,\n",
    "                           'SAGEMAKER_PROGRAM': 'inference.py'} \n",
    "        }\n",
    "    ],\n",
    "    ExecutionRoleArn=role,\n",
    ")\n",
    "print(\"Model Arn: \" + create_model_response[\"ModelArn\"])"
   ]
  },
  {
   "cell_type": "code",
   "execution_count": 15,
   "id": "9698746f",
   "metadata": {},
   "outputs": [
    {
     "name": "stdout",
     "output_type": "stream",
     "text": [
      "Endpoint Configuration Arn: arn:aws:sagemaker:us-east-1:474422712127:endpoint-config/mme-tf2022-11-14-19-06-04\n"
     ]
    }
   ],
   "source": [
    "#Step 2: EPC Creation\n",
    "tf_epc_name = \"mme-tf\" + strftime(\"%Y-%m-%d-%H-%M-%S\", gmtime())\n",
    "endpoint_config_response = client.create_endpoint_config(\n",
    "    EndpointConfigName=tf_epc_name,\n",
    "    ProductionVariants=[\n",
    "        {\n",
    "            \"VariantName\": \"tfvariant\",\n",
    "            \"ModelName\": model_name,\n",
    "            \"InstanceType\": \"ml.c5.large\",\n",
    "            \"InitialInstanceCount\": 1\n",
    "        },\n",
    "    ],\n",
    ")\n",
    "print(\"Endpoint Configuration Arn: \" + endpoint_config_response[\"EndpointConfigArn\"])"
   ]
  },
  {
   "cell_type": "code",
   "execution_count": 16,
   "id": "b8f212fe",
   "metadata": {},
   "outputs": [
    {
     "name": "stdout",
     "output_type": "stream",
     "text": [
      "Endpoint Arn: arn:aws:sagemaker:us-east-1:474422712127:endpoint/mme-resnet2022-11-14-19-06-09\n"
     ]
    }
   ],
   "source": [
    "#Step 3: EP Creation\n",
    "endpoint_name = \"mme-resnet\" + strftime(\"%Y-%m-%d-%H-%M-%S\", gmtime())\n",
    "create_endpoint_response = client.create_endpoint(\n",
    "    EndpointName=endpoint_name,\n",
    "    EndpointConfigName=tf_epc_name,\n",
    ")\n",
    "print(\"Endpoint Arn: \" + create_endpoint_response[\"EndpointArn\"])"
   ]
  },
  {
   "cell_type": "code",
   "execution_count": 17,
   "id": "cf9ae05b",
   "metadata": {},
   "outputs": [
    {
     "name": "stdout",
     "output_type": "stream",
     "text": [
      "Creating\n",
      "Creating\n",
      "Creating\n",
      "Creating\n",
      "Creating\n",
      "Creating\n",
      "Creating\n",
      "InService\n",
      "{'EndpointName': 'mme-resnet2022-11-14-19-06-09', 'EndpointArn': 'arn:aws:sagemaker:us-east-1:474422712127:endpoint/mme-resnet2022-11-14-19-06-09', 'EndpointConfigName': 'mme-tf2022-11-14-19-06-04', 'ProductionVariants': [{'VariantName': 'tfvariant', 'DeployedImages': [{'SpecifiedImage': '763104351884.dkr.ecr.us-east-1.amazonaws.com/tensorflow-inference:2.3.0-cpu', 'ResolvedImage': '763104351884.dkr.ecr.us-east-1.amazonaws.com/tensorflow-inference@sha256:91ebb7428846c5f7b515d5d9b8389a14c73d0c5d02657f4a6413592124333278', 'ResolutionTime': datetime.datetime(2022, 11, 14, 19, 6, 10, 661000, tzinfo=tzlocal())}], 'CurrentWeight': 1.0, 'DesiredWeight': 1.0, 'CurrentInstanceCount': 1, 'DesiredInstanceCount': 1}], 'EndpointStatus': 'InService', 'CreationTime': datetime.datetime(2022, 11, 14, 19, 6, 10, 10000, tzinfo=tzlocal()), 'LastModifiedTime': datetime.datetime(2022, 11, 14, 19, 7, 48, 252000, tzinfo=tzlocal()), 'ResponseMetadata': {'RequestId': '2d4847f3-d2b9-494c-a90f-cf5856dba2bf', 'HTTPStatusCode': 200, 'HTTPHeaders': {'x-amzn-requestid': '2d4847f3-d2b9-494c-a90f-cf5856dba2bf', 'content-type': 'application/x-amz-json-1.1', 'content-length': '736', 'date': 'Mon, 14 Nov 2022 19:07:57 GMT'}, 'RetryAttempts': 0}}\n"
     ]
    }
   ],
   "source": [
    "#Monitor creation\n",
    "describe_endpoint_response = client.describe_endpoint(EndpointName=endpoint_name)\n",
    "while describe_endpoint_response[\"EndpointStatus\"] == \"Creating\":\n",
    "    describe_endpoint_response = client.describe_endpoint(EndpointName=endpoint_name)\n",
    "    print(describe_endpoint_response[\"EndpointStatus\"])\n",
    "    time.sleep(15)\n",
    "print(describe_endpoint_response)"
   ]
  },
  {
   "cell_type": "code",
   "execution_count": 18,
   "id": "0530b2ca",
   "metadata": {},
   "outputs": [
    {
     "name": "stdout",
     "output_type": "stream",
     "text": [
      "<class 'numpy.ndarray'>\n"
     ]
    }
   ],
   "source": [
    "# resizing to 224x224 pixels (required by this model)\n",
    "img = image.load_img(\"kitten.jpg\", target_size=(224, 224))\n",
    "# Convert image to a numpy array\n",
    "x = image.img_to_array(img)\n",
    "# Add a forth dimension since Keras expects a list of images\n",
    "x = np.expand_dims(x, axis=0)\n",
    "\n",
    "# resnet preprocessing\n",
    "x = resnet50.preprocess_input(x)\n",
    "print(type(x))"
   ]
  },
  {
   "cell_type": "code",
   "execution_count": 19,
   "id": "488c5088",
   "metadata": {},
   "outputs": [
    {
     "name": "stdout",
     "output_type": "stream",
     "text": [
      "<class 'str'>\n"
     ]
    }
   ],
   "source": [
    "payload = json.dumps(x.tolist())\n",
    "print(type(payload))"
   ]
  },
  {
   "cell_type": "code",
   "execution_count": 20,
   "id": "4bc8ad4c",
   "metadata": {},
   "outputs": [
    {
     "data": {
      "text/plain": [
       "'mme-resnet2022-11-14-19-06-09'"
      ]
     },
     "execution_count": 20,
     "metadata": {},
     "output_type": "execute_result"
    }
   ],
   "source": [
    "endpoint_name"
   ]
  },
  {
   "cell_type": "code",
   "execution_count": 24,
   "id": "6516a5f0",
   "metadata": {},
   "outputs": [],
   "source": [
    "response = runtime.invoke_endpoint(EndpointName=endpoint_name,\n",
    "                                   TargetModel='resnet-3.tar.gz',\n",
    "                                   ContentType='application/json',\n",
    "                                   Body=payload)\n",
    "result = json.loads(response['Body'].read().decode())\n",
    "#result"
   ]
  },
  {
   "cell_type": "code",
   "execution_count": null,
   "id": "3325c51d",
   "metadata": {},
   "outputs": [],
   "source": []
  }
 ],
 "metadata": {
  "kernelspec": {
   "display_name": "conda_tensorflow2_p38",
   "language": "python",
   "name": "conda_tensorflow2_p38"
  },
  "language_info": {
   "codemirror_mode": {
    "name": "ipython",
    "version": 3
   },
   "file_extension": ".py",
   "mimetype": "text/x-python",
   "name": "python",
   "nbconvert_exporter": "python",
   "pygments_lexer": "ipython3",
   "version": "3.8.12"
  }
 },
 "nbformat": 4,
 "nbformat_minor": 5
}
